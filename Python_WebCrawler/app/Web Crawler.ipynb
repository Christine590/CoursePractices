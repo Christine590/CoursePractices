{
 "cells": [
  {
   "cell_type": "code",
   "execution_count": 20,
   "id": "da9b8eb9",
   "metadata": {
    "scrolled": true
   },
   "outputs": [
    {
     "name": "stdout",
     "output_type": "stream",
     "text": [
      "Requirement already satisfied: pyquery in c:\\python38\\lib\\site-packages (1.4.3)\n",
      "Requirement already satisfied: cssselect>0.7.9 in c:\\python38\\lib\\site-packages (from pyquery) (1.1.0)\n",
      "Requirement already satisfied: lxml>=2.1 in c:\\python38\\lib\\site-packages (from pyquery) (4.6.3)\n"
     ]
    }
   ],
   "source": [
    "###透過pyquery套件來爬純html網頁資料\n",
    "\n",
    "#驚嘆號不是Python指令而是電腦指令\n",
    "!pip install pyquery"
   ]
  },
  {
   "cell_type": "code",
   "execution_count": 21,
   "id": "986b1b2f",
   "metadata": {
    "scrolled": true
   },
   "outputs": [],
   "source": [
    "###從pyquery模組引用PyQuery類別\n",
    "from pyquery import PyQuery\n",
    "\n",
    "#目標網址\n",
    "url = \"https://rate.bot.com.tw/xrt\"\n",
    "\n",
    "#透過PyQuery取得指定網址的HTML代碼\n",
    "html = PyQuery(url)"
   ]
  },
  {
   "cell_type": "code",
   "execution_count": 29,
   "id": "d5592f2b",
   "metadata": {},
   "outputs": [],
   "source": [
    "### a = html(\"選擇規則\")\n",
    "\n",
    "#透過標籤名稱取得內容\n",
    "des1 = html(\"h1\")\n",
    "\n",
    "#透過id取得內容\n",
    "des2 = html(\"#h1_id\")\n",
    "\n",
    "#透過class取得內容\n",
    "des3 = html(\".currency\")\n",
    "\n",
    "#透過元素取得內容(需同時符合兩個class的div)\n",
    "#<div class=\"hidden-phone print_show\" style=\"text-indent:30px;\">美金 (USD)</div>\n",
    "des4 = html(\"div.hidden-phone.print_show\")\n",
    "\n",
    "#若有Class以外的屬性統一用中括號[]限定取得條件\n",
    "#<td data-table=\"本行現金賣出\" class=\"rate-content-cash text-right print_hide\">28.27</td>\n",
    "#單引號和雙引號都可表示字串可交叉使用\n",
    "des5 = html('td[data-table=\"本行現金賣出\"]')"
   ]
  },
  {
   "cell_type": "code",
   "execution_count": 26,
   "id": "873852cc",
   "metadata": {},
   "outputs": [
    {
     "name": "stdout",
     "output_type": "stream",
     "text": [
      "貨幣名稱 ['美金 (USD)', '港幣 (HKD)', '英鎊 (GBP)', '澳幣 (AUD)', '加拿大幣 (CAD)', '新加坡幣 (SGD)', '瑞士法郎 (CHF)', '日圓 (JPY)', '南非幣 (ZAR)', '瑞典幣 (SEK)', '紐元 (NZD)', '泰幣 (THB)', '菲國比索 (PHP)', '印尼幣 (IDR)', '歐元 (EUR)', '韓元 (KRW)', '越南盾 (VND)', '馬來幣 (MYR)', '人民幣 (CNY)']\n"
     ]
    }
   ],
   "source": [
    "###取得幣別名稱\n",
    "\n",
    "html_name_list = html(\"div.hidden-phone.print_show\")\n",
    "name_list = []\n",
    "\n",
    "for n in html_name_list:\n",
    "    #字串.strip()去除左右兩邊的空格\n",
    "    name = n.text.strip()\n",
    "    #把資料name放到name_list陣列裡\n",
    "    name_list.append(name)\n",
    "\n",
    "print(\"貨幣名稱\", name_list)"
   ]
  },
  {
   "cell_type": "code",
   "execution_count": 37,
   "id": "3412815d",
   "metadata": {},
   "outputs": [
    {
     "name": "stdout",
     "output_type": "stream",
     "text": [
      "賣價清單 ['28.27', '3.642', '39.08', '20.37', '22.26', '20.89', '30.92', '0.2585', '-', '3.31', '19.49', '0.9019', '0.6158', '0.00228', '33.29', '0.02599', '0.00139', '7.076', '4.376']\n"
     ]
    }
   ],
   "source": [
    "###取得幣別匯率\n",
    "\n",
    "#<td data-table=\"本行現金賣出\" class=\"rate-content-cash text-right print_hide\">28.27</td>\n",
    "html_price_list = html('td[data-table=\"本行現金賣出\"].rate-content-cash')\n",
    "\n",
    "#print(html_price_list)\n",
    "#<td data-table=\"&#x672C;&#x884C;&#x73FE;&#x91D1;&#x8CE3;&#x51FA;\" class=\"rate-content-cash text-right print_hide\">28.27</td>&#13;\n",
    "\n",
    "price_list = []\n",
    "\n",
    "#結果會是多個重覆的td完整標籤但我們只需要爬出文字\n",
    "for p in html_price_list:\n",
    "    price = p.text\n",
    "    #陣列.append(要放入陣列的新資料)\n",
    "    price_list.append(price)\n",
    "\n",
    "print(\"賣價清單\", price_list)"
   ]
  },
  {
   "cell_type": "code",
   "execution_count": 40,
   "id": "5076f3a9",
   "metadata": {},
   "outputs": [
    {
     "name": "stdout",
     "output_type": "stream",
     "text": [
      "Collecting xlsxwriter\n",
      "  Downloading XlsxWriter-3.0.1-py3-none-any.whl (148 kB)\n",
      "Installing collected packages: xlsxwriter\n",
      "Successfully installed xlsxwriter-3.0.1\n"
     ]
    }
   ],
   "source": [
    "###透過xlsxwriter套件把Python的資料輸出成檔案\n",
    "\n",
    "!pip install xlsxwriter"
   ]
  },
  {
   "cell_type": "code",
   "execution_count": 44,
   "id": "f0fb4d99",
   "metadata": {},
   "outputs": [
    {
     "name": "stdout",
     "output_type": "stream",
     "text": [
      "程序結束\n"
     ]
    }
   ],
   "source": [
    "#若只想引用特定套件中的特定模組\n",
    "from xlsxwriter import Workbook\n",
    "#或直接寫import xlsxwriter也可以，但就會把整個套件都引用進來\n",
    "\n",
    "#建立一個檔案\n",
    "workbook = Workbook(\"檔案名稱.xlsx\")\n",
    "\n",
    "#在檔案內建立一個工作表\n",
    "sheet = workbook.add_worksheet()\n",
    "\n",
    "#寫入表頭\n",
    "sheet.write(0, 0, \"幣別\") #0, 0 => 第一列+第一行\n",
    "sheet.write(0, 1, \"賣價\") #0, 0 => 第一列+第二行\n",
    "\n",
    "#資料從第二列開始\n",
    "row = 1 \n",
    "\n",
    "#zip函數可以在迴圈中一次使用兩個陣列\n",
    "for name, price in zip(name_list, price_list):\n",
    "     \n",
    "    sheet.write(row, 0, name)\n",
    "    sheet.write(row, 1, price)\n",
    "    row = row+1\n",
    "\n",
    "#寫完要記得存檔\n",
    "#檔案會產生在與此.py檔案同層級的目錄中\n",
    "#在Windows平台要跑程式時不能開著Excel軟體，否則程式會沒有權限執行操作\n",
    "workbook.close()\n",
    "\n",
    "print(\"程序結束\")"
   ]
  },
  {
   "cell_type": "code",
   "execution_count": null,
   "id": "e7aaf97d",
   "metadata": {},
   "outputs": [],
   "source": []
  }
 ],
 "metadata": {
  "kernelspec": {
   "display_name": "Python 3 (ipykernel)",
   "language": "python",
   "name": "python3"
  },
  "language_info": {
   "codemirror_mode": {
    "name": "ipython",
    "version": 3
   },
   "file_extension": ".py",
   "mimetype": "text/x-python",
   "name": "python",
   "nbconvert_exporter": "python",
   "pygments_lexer": "ipython3",
   "version": "3.8.1"
  }
 },
 "nbformat": 4,
 "nbformat_minor": 5
}
